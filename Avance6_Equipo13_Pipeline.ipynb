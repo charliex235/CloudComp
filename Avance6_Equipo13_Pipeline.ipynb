{
  "cells": [
    {
      "cell_type": "markdown",
      "metadata": {
        "id": "view-in-github",
        "colab_type": "text"
      },
      "source": [
        "<a href=\"https://colab.research.google.com/github/charliex235/CloudComp/blob/main/Avance6_Equipo13_Pipeline.ipynb\" target=\"_parent\"><img src=\"https://colab.research.google.com/assets/colab-badge.svg\" alt=\"Open In Colab\"/></a>"
      ]
    },
    {
      "cell_type": "markdown",
      "source": [
        "\n",
        "\n",
        "```jjj\n",
        "# This is formatted as code\n",
        "```\n",
        "\n"
      ],
      "metadata": {
        "id": "RqTG9Zn--E_n"
      },
      "id": "RqTG9Zn--E_n"
    }
  ],
  "metadata": {
    "colab": {
      "collapsed_sections": [
        "yrLd5hs1LZMY",
        "4oIRZ5ycHAh0",
        "Lj0MLJO1sCdU",
        "UKP_AyyFWBOs",
        "CKuG3Msfk3jV",
        "bMVRgOsywk-N",
        "EwrQRdy8qEMS",
        "7v_azwrfxibt",
        "y51V-6xp1UY4",
        "VRrWOIbM9JDW",
        "Gnm-UbrL8V_v",
        "Nc-QD9A39NP2"
      ],
      "provenance": [],
      "include_colab_link": true
    },
    "kernelspec": {
      "display_name": "Python 3 (ipykernel)",
      "language": "python",
      "name": "python3"
    },
    "language_info": {
      "codemirror_mode": {
        "name": "ipython",
        "version": 3
      },
      "file_extension": ".py",
      "mimetype": "text/x-python",
      "name": "python",
      "nbconvert_exporter": "python",
      "pygments_lexer": "ipython3",
      "version": "3.9.19"
    }
  },
  "nbformat": 4,
  "nbformat_minor": 5
}